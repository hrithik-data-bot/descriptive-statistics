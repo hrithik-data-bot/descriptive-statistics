{
 "cells": [
  {
   "cell_type": "markdown",
   "id": "5174d80f",
   "metadata": {},
   "source": [
    "## Introduction"
   ]
  },
  {
   "cell_type": "markdown",
   "id": "51550691",
   "metadata": {},
   "source": [
    "Contained within this notebook is work specifically pertaining to statistics, with a primary focus on a specific branch called descriptive statistics.\n",
    "\n",
    "Descriptive statistics involves the characterization and depiction of data, encompassing measures that assess central tendency, dispersion, and the shape of the data.\n",
    "\n",
    "<b>Measure of Central Tendency:-</b> A Measure of Central Tendency refers to a singular value or number that represents the center of a dataset, with all data points exhibiting an equal distance from this central point. There are three common metrics used to measure central tendency: the Mean, Median, and Mode.\n",
    "\n",
    "<b>Measure of Dispersion:-</b> A Measure of Dispersion denotes a value that illustrates the extent to which data is spread out from the central tendency or the variability within the data. It provides insights into the spread of the data. Two commonly used metrics to measure dispersion are the Standard Deviation and Variance."
   ]
  },
  {
   "cell_type": "markdown",
   "id": "318ded9d",
   "metadata": {},
   "source": [
    "## Required Dependencies"
   ]
  },
  {
   "cell_type": "code",
   "execution_count": 1,
   "id": "0abf0218",
   "metadata": {
    "ExecuteTime": {
     "end_time": "2023-06-20T17:21:57.893916Z",
     "start_time": "2023-06-20T17:21:57.813894Z"
    }
   },
   "outputs": [],
   "source": [
    "import statistics\n",
    "from typing import Sequence"
   ]
  },
  {
   "cell_type": "code",
   "execution_count": 2,
   "id": "7a98d6a3",
   "metadata": {
    "ExecuteTime": {
     "end_time": "2023-06-20T17:21:57.901295Z",
     "start_time": "2023-06-20T17:21:57.896853Z"
    }
   },
   "outputs": [],
   "source": [
    "from warnings import filterwarnings\n",
    "filterwarnings(\"ignore\")"
   ]
  },
  {
   "cell_type": "code",
   "execution_count": 3,
   "id": "dac7b5b0",
   "metadata": {
    "ExecuteTime": {
     "end_time": "2023-06-20T17:22:11.756554Z",
     "start_time": "2023-06-20T17:21:57.905735Z"
    }
   },
   "outputs": [],
   "source": [
    "import numpy as np\n",
    "import pandas as pd"
   ]
  },
  {
   "cell_type": "code",
   "execution_count": 4,
   "id": "9c17d00d",
   "metadata": {
    "ExecuteTime": {
     "end_time": "2023-06-20T17:22:26.833747Z",
     "start_time": "2023-06-20T17:22:11.759734Z"
    }
   },
   "outputs": [],
   "source": [
    "from matplotlib import pyplot as plt\n",
    "import seaborn as sns"
   ]
  },
  {
   "cell_type": "markdown",
   "id": "8458d65c",
   "metadata": {},
   "source": [
    "## Data"
   ]
  },
  {
   "cell_type": "markdown",
   "id": "b264cc5e",
   "metadata": {},
   "source": [
    "Data can be described as individual units of information that are stored in both structured and unstructured formats. When data is organized in a CSV file or an Excel spreadsheet, it is categorized as structured data. On the other hand, when data lacks a specific organization, such as in the form of text, paragraphs, or tables, it falls under the category of unstructured data.\n",
    "\n",
    "In the world of data, two main types can be distinguished: qualitative data and quantitative data."
   ]
  },
  {
   "cell_type": "markdown",
   "id": "cd422464",
   "metadata": {},
   "source": [
    "### Qualitative Data"
   ]
  },
  {
   "cell_type": "markdown",
   "id": "47f3be68",
   "metadata": {},
   "source": [
    "Qualitative data refers to categorical information found within a dataset, which can be further categorized into two types: ordinal data and nominal data. Ordinal data is characterized by a specific order among its categories, such as the sizes of T-shirts (e.g., Small, Medium, Large) where there is a clear hierarchy like \"Small < Medium < Large\" or \"Large > Medium > Small.\" On the other hand, nominal data represents categories without any inherent order, like countries (e.g., U.S.A, Canada, England, Scotland), where no meaningful order can be established."
   ]
  },
  {
   "cell_type": "markdown",
   "id": "a55baded",
   "metadata": {},
   "source": [
    "### Quantative Data"
   ]
  },
  {
   "cell_type": "markdown",
   "id": "97ce6646",
   "metadata": {},
   "source": [
    "Quantitative data pertains to numerical information present in a dataset, which can be classified into two categories: integer points and floating points. Floating points consist of values that include decimal places, such as 1.2, 5.5, and 3.2. An example of this could be the amount paid in dollars and cents. On the other hand, integer points represent whole numbers, like the number of apples purchased by different customers, such as 3, 3, 5, and 1. In this case, the store does not sell fractional amounts of apples like 4.5 or 3.2."
   ]
  },
  {
   "cell_type": "markdown",
   "id": "56529a10",
   "metadata": {},
   "source": [
    "## Measure of Central Tendency"
   ]
  },
  {
   "cell_type": "markdown",
   "id": "2e641298",
   "metadata": {},
   "source": [
    "### Mean Calculation Algorithm and Code"
   ]
  },
  {
   "cell_type": "markdown",
   "id": "b0d14614",
   "metadata": {},
   "source": [
    "In mathematical terms, the mean is defined as the sum of all observations divided by the total number of observations."
   ]
  },
  {
   "cell_type": "markdown",
   "id": "83c01e1c",
   "metadata": {},
   "source": [
    "#### Mean using traditional functional program"
   ]
  },
  {
   "cell_type": "code",
   "execution_count": 5,
   "id": "2bd808aa",
   "metadata": {
    "ExecuteTime": {
     "end_time": "2023-06-20T17:22:26.852381Z",
     "start_time": "2023-06-20T17:22:26.838635Z"
    }
   },
   "outputs": [
    {
     "data": {
      "text/plain": [
       "array([6, 8, 7, 8, 1, 6, 4, 4, 2, 4])"
      ]
     },
     "execution_count": 5,
     "metadata": {},
     "output_type": "execute_result"
    }
   ],
   "source": [
    "np.random.seed(52)\n",
    "random_values = np.random.randint(low=1, high=10, size=10)\n",
    "random_values"
   ]
  },
  {
   "cell_type": "code",
   "execution_count": 6,
   "id": "76f2b929",
   "metadata": {
    "ExecuteTime": {
     "end_time": "2023-06-20T17:22:26.920261Z",
     "start_time": "2023-06-20T17:22:26.855468Z"
    }
   },
   "outputs": [],
   "source": [
    "def calculate_mean(num_sequence: Sequence) -> float:\n",
    "    \n",
    "    sum_of_values = 0\n",
    "    number_of_values = len(num_sequence)\n",
    "    \n",
    "    for i in num_sequence:\n",
    "        sum_of_values += i\n",
    "    \n",
    "    mean_of_data = sum_of_values/number_of_values\n",
    "    return mean_of_data"
   ]
  },
  {
   "cell_type": "code",
   "execution_count": 7,
   "id": "1c279dc4",
   "metadata": {
    "ExecuteTime": {
     "end_time": "2023-06-20T17:22:27.168128Z",
     "start_time": "2023-06-20T17:22:26.922555Z"
    }
   },
   "outputs": [
    {
     "data": {
      "text/plain": [
       "5.0"
      ]
     },
     "execution_count": 7,
     "metadata": {},
     "output_type": "execute_result"
    }
   ],
   "source": [
    "calculate_mean(num_sequence=random_values)"
   ]
  },
  {
   "cell_type": "markdown",
   "id": "6a8676ca",
   "metadata": {},
   "source": [
    "#### Mean using numpy arrays"
   ]
  },
  {
   "cell_type": "code",
   "execution_count": 8,
   "id": "32ab7b2b",
   "metadata": {
    "ExecuteTime": {
     "end_time": "2023-06-20T17:22:27.191613Z",
     "start_time": "2023-06-20T17:22:27.172577Z"
    }
   },
   "outputs": [],
   "source": [
    "def calculate_mean_using_np_array(num_sequence: Sequence) -> float:\n",
    "    \n",
    "    num_sequence = np.array(num_sequence)\n",
    "    mean_value = np.mean(num_sequence)\n",
    "    return mean_value"
   ]
  },
  {
   "cell_type": "code",
   "execution_count": 9,
   "id": "d6e65817",
   "metadata": {
    "ExecuteTime": {
     "end_time": "2023-06-20T17:22:27.206291Z",
     "start_time": "2023-06-20T17:22:27.194877Z"
    }
   },
   "outputs": [
    {
     "data": {
      "text/plain": [
       "5.0"
      ]
     },
     "execution_count": 9,
     "metadata": {},
     "output_type": "execute_result"
    }
   ],
   "source": [
    "calculate_mean_using_np_array(num_sequence=random_values)"
   ]
  },
  {
   "cell_type": "markdown",
   "id": "fbf2ffd8",
   "metadata": {},
   "source": [
    "#### Mean using statistics module"
   ]
  },
  {
   "cell_type": "code",
   "execution_count": 10,
   "id": "73289bcf",
   "metadata": {
    "ExecuteTime": {
     "end_time": "2023-06-20T17:22:27.219422Z",
     "start_time": "2023-06-20T17:22:27.214801Z"
    }
   },
   "outputs": [],
   "source": [
    "def calculate_mean_using_statistics(num_sequence: Sequence) -> float:\n",
    "    \n",
    "    mean_value = statistics.mean(num_sequence)\n",
    "    return mean_value"
   ]
  },
  {
   "cell_type": "code",
   "execution_count": 11,
   "id": "6a143907",
   "metadata": {
    "ExecuteTime": {
     "end_time": "2023-06-20T17:22:27.232281Z",
     "start_time": "2023-06-20T17:22:27.225127Z"
    }
   },
   "outputs": [
    {
     "data": {
      "text/plain": [
       "5"
      ]
     },
     "execution_count": 11,
     "metadata": {},
     "output_type": "execute_result"
    }
   ],
   "source": [
    "calculate_mean_using_statistics(num_sequence=random_values)"
   ]
  },
  {
   "cell_type": "markdown",
   "id": "7d35ad0e",
   "metadata": {},
   "source": [
    "### Median Calculation Algorithm and Code"
   ]
  },
  {
   "cell_type": "markdown",
   "id": "10cc2562",
   "metadata": {},
   "source": [
    "Mathematically speaking, the median is the value located at the middle position of a set of data when arranged in ascending order. When there is an even number of observations, the median is determined by taking the average of the values at positions (n/2) and ((n+1)/2). Conversely, when there is an odd number of observations, the median is simply the value at position ((n+1)/2)."
   ]
  },
  {
   "cell_type": "markdown",
   "id": "3998a36c",
   "metadata": {},
   "source": [
    "#### Median using traditional functional program "
   ]
  },
  {
   "cell_type": "code",
   "execution_count": 54,
   "id": "7877337c",
   "metadata": {
    "ExecuteTime": {
     "end_time": "2023-06-20T17:39:48.978183Z",
     "start_time": "2023-06-20T17:39:48.970644Z"
    }
   },
   "outputs": [],
   "source": [
    "def calculate_median(num_sequence: Sequence) -> float:\n",
    "    \n",
    "    num_sequence = sorted(list(num_sequence))\n",
    "    \n",
    "    if len(num_sequence) % 2 == 0:\n",
    "        first_term = (len(num_sequence)//2) -1 \n",
    "        second_term = (len(num_sequence)//2 + 1) - 1\n",
    "        median = (num_sequence[first_term] + num_sequence[second_term])/2\n",
    "    else:\n",
    "        median_term = (len(num_sequence)//2)\n",
    "        median = num_sequence[median_term]\n",
    "    return median"
   ]
  },
  {
   "cell_type": "code",
   "execution_count": 59,
   "id": "f264c700",
   "metadata": {
    "ExecuteTime": {
     "end_time": "2023-06-20T17:41:16.178416Z",
     "start_time": "2023-06-20T17:41:16.173047Z"
    }
   },
   "outputs": [
    {
     "data": {
      "text/plain": [
       "5.0"
      ]
     },
     "execution_count": 59,
     "metadata": {},
     "output_type": "execute_result"
    }
   ],
   "source": [
    "calculate_median(num_sequence=random_values)"
   ]
  },
  {
   "cell_type": "markdown",
   "id": "e0d9dd65",
   "metadata": {},
   "source": [
    "#### Median using numpy arrays"
   ]
  },
  {
   "cell_type": "code",
   "execution_count": 63,
   "id": "be7e8c11",
   "metadata": {
    "ExecuteTime": {
     "end_time": "2023-06-20T17:44:27.827814Z",
     "start_time": "2023-06-20T17:44:27.822049Z"
    }
   },
   "outputs": [],
   "source": [
    "def calculate_median_using_np_array(num_sequence: Sequence) -> float:\n",
    "    \n",
    "    num_sequence = np.array(num_sequence)\n",
    "    mean_value = np.median(num_sequence)\n",
    "    return mean_value"
   ]
  },
  {
   "cell_type": "code",
   "execution_count": null,
   "id": "95a9088a",
   "metadata": {},
   "outputs": [],
   "source": [
    "calculate_median_using_np_array(random_values)"
   ]
  },
  {
   "cell_type": "markdown",
   "id": "662fc168",
   "metadata": {},
   "source": [
    "#### Median using statistics module"
   ]
  },
  {
   "cell_type": "code",
   "execution_count": 61,
   "id": "6a8d983b",
   "metadata": {
    "ExecuteTime": {
     "end_time": "2023-06-20T17:42:50.929953Z",
     "start_time": "2023-06-20T17:42:50.924839Z"
    }
   },
   "outputs": [],
   "source": [
    "def calculate_median_using_statistics(num_sequence: Sequence) -> float:\n",
    "    \n",
    "    median = statistics.median(num_sequence)\n",
    "    return median"
   ]
  },
  {
   "cell_type": "code",
   "execution_count": 62,
   "id": "fd17514b",
   "metadata": {
    "ExecuteTime": {
     "end_time": "2023-06-20T17:43:09.203359Z",
     "start_time": "2023-06-20T17:43:09.196844Z"
    }
   },
   "outputs": [
    {
     "data": {
      "text/plain": [
       "5.0"
      ]
     },
     "execution_count": 62,
     "metadata": {},
     "output_type": "execute_result"
    }
   ],
   "source": [
    "calculate_median_using_statistics(num_sequence=random_values)"
   ]
  },
  {
   "cell_type": "markdown",
   "id": "798584ae",
   "metadata": {},
   "source": [
    "### Mode"
   ]
  },
  {
   "cell_type": "code",
   "execution_count": null,
   "id": "09e97cbd",
   "metadata": {},
   "outputs": [],
   "source": []
  }
 ],
 "metadata": {
  "kernelspec": {
   "display_name": "ds-labs",
   "language": "python",
   "name": "ds-labs"
  },
  "language_info": {
   "codemirror_mode": {
    "name": "ipython",
    "version": 3
   },
   "file_extension": ".py",
   "mimetype": "text/x-python",
   "name": "python",
   "nbconvert_exporter": "python",
   "pygments_lexer": "ipython3",
   "version": "3.7.12"
  },
  "toc": {
   "base_numbering": 1,
   "nav_menu": {},
   "number_sections": true,
   "sideBar": true,
   "skip_h1_title": false,
   "title_cell": "Table of Contents",
   "title_sidebar": "Contents",
   "toc_cell": false,
   "toc_position": {
    "height": "calc(100% - 180px)",
    "left": "10px",
    "top": "150px",
    "width": "303.837px"
   },
   "toc_section_display": true,
   "toc_window_display": false
  }
 },
 "nbformat": 4,
 "nbformat_minor": 5
}
