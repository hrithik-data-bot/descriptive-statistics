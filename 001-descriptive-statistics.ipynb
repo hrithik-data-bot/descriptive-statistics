{
 "cells": [
  {
   "cell_type": "markdown",
   "id": "5174d80f",
   "metadata": {},
   "source": [
    "## Introduction"
   ]
  },
  {
   "cell_type": "markdown",
   "id": "51550691",
   "metadata": {},
   "source": [
    "Contained within this notebook is work specifically pertaining to statistics, with a primary focus on a specific branch called descriptive statistics.\n",
    "\n",
    "Descriptive statistics involves the characterization and depiction of data, encompassing measures that assess central tendency, dispersion, and the shape of the data.\n",
    "\n",
    "<b>Measure of Central Tendency:-</b> A Measure of Central Tendency refers to a singular value or number that represents the center of a dataset, with all data points exhibiting an equal distance from this central point. There are three common metrics used to measure central tendency: the Mean, Median, and Mode.\n",
    "\n",
    "<b>Measure of Dispersion:-</b> A Measure of Dispersion denotes a value that illustrates the extent to which data is spread out from the central tendency or the variability within the data. It provides insights into the spread of the data. Two commonly used metrics to measure dispersion are the Standard Deviation and Variance."
   ]
  },
  {
   "cell_type": "markdown",
   "id": "318ded9d",
   "metadata": {},
   "source": [
    "## Required Dependencies"
   ]
  },
  {
   "cell_type": "code",
   "execution_count": 1,
   "id": "0abf0218",
   "metadata": {
    "ExecuteTime": {
     "end_time": "2023-06-21T17:28:13.888020Z",
     "start_time": "2023-06-21T17:28:13.799507Z"
    }
   },
   "outputs": [],
   "source": [
    "import statistics\n",
    "from typing import Sequence"
   ]
  },
  {
   "cell_type": "code",
   "execution_count": 2,
   "id": "7a98d6a3",
   "metadata": {
    "ExecuteTime": {
     "end_time": "2023-06-21T17:28:13.897084Z",
     "start_time": "2023-06-21T17:28:13.893024Z"
    }
   },
   "outputs": [],
   "source": [
    "from warnings import filterwarnings\n",
    "filterwarnings(\"ignore\")"
   ]
  },
  {
   "cell_type": "code",
   "execution_count": 3,
   "id": "dac7b5b0",
   "metadata": {
    "ExecuteTime": {
     "end_time": "2023-06-21T17:28:27.370491Z",
     "start_time": "2023-06-21T17:28:13.903222Z"
    }
   },
   "outputs": [],
   "source": [
    "import numpy as np\n",
    "import pandas as pd"
   ]
  },
  {
   "cell_type": "code",
   "execution_count": null,
   "id": "9c17d00d",
   "metadata": {
    "ExecuteTime": {
     "start_time": "2023-06-21T17:28:13.736Z"
    }
   },
   "outputs": [],
   "source": [
    "from matplotlib import pyplot as plt\n",
    "import seaborn as sns"
   ]
  },
  {
   "cell_type": "markdown",
   "id": "8458d65c",
   "metadata": {},
   "source": [
    "## Data"
   ]
  },
  {
   "cell_type": "markdown",
   "id": "b264cc5e",
   "metadata": {},
   "source": [
    "Data can be described as individual units of information that are stored in both structured and unstructured formats. When data is organized in a CSV file or an Excel spreadsheet, it is categorized as structured data. On the other hand, when data lacks a specific organization, such as in the form of text, paragraphs, or tables, it falls under the category of unstructured data.\n",
    "\n",
    "In the world of data, two main types can be distinguished: qualitative data and quantitative data."
   ]
  },
  {
   "cell_type": "markdown",
   "id": "cd422464",
   "metadata": {},
   "source": [
    "### Qualitative Data"
   ]
  },
  {
   "cell_type": "markdown",
   "id": "47f3be68",
   "metadata": {},
   "source": [
    "Qualitative data refers to categorical information found within a dataset, which can be further categorized into two types: ordinal data and nominal data. Ordinal data is characterized by a specific order among its categories, such as the sizes of T-shirts (e.g., Small, Medium, Large) where there is a clear hierarchy like \"Small < Medium < Large\" or \"Large > Medium > Small.\" On the other hand, nominal data represents categories without any inherent order, like countries (e.g., U.S.A, Canada, England, Scotland), where no meaningful order can be established."
   ]
  },
  {
   "cell_type": "markdown",
   "id": "a55baded",
   "metadata": {},
   "source": [
    "### Quantative Data"
   ]
  },
  {
   "cell_type": "markdown",
   "id": "97ce6646",
   "metadata": {},
   "source": [
    "Quantitative data pertains to numerical information present in a dataset, which can be classified into two categories: integer points and floating points. Floating points consist of values that include decimal places, such as 1.2, 5.5, and 3.2. An example of this could be the amount paid in dollars and cents. On the other hand, integer points represent whole numbers, like the number of apples purchased by different customers, such as 3, 3, 5, and 1. In this case, the store does not sell fractional amounts of apples like 4.5 or 3.2."
   ]
  },
  {
   "cell_type": "markdown",
   "id": "56529a10",
   "metadata": {},
   "source": [
    "## Measure of Central Tendency"
   ]
  },
  {
   "cell_type": "markdown",
   "id": "2e641298",
   "metadata": {},
   "source": [
    "### Mean Calculation Algorithm and Code"
   ]
  },
  {
   "cell_type": "markdown",
   "id": "b0d14614",
   "metadata": {},
   "source": [
    "In mathematical terms, the mean is defined as the sum of all observations divided by the total number of observations."
   ]
  },
  {
   "cell_type": "markdown",
   "id": "83c01e1c",
   "metadata": {},
   "source": [
    "#### Mean using traditional functional program"
   ]
  },
  {
   "cell_type": "code",
   "execution_count": null,
   "id": "2bd808aa",
   "metadata": {
    "ExecuteTime": {
     "start_time": "2023-06-21T17:28:13.743Z"
    }
   },
   "outputs": [],
   "source": [
    "np.random.seed(52)\n",
    "random_values = np.random.randint(low=1, high=10, size=10)\n",
    "random_values"
   ]
  },
  {
   "cell_type": "code",
   "execution_count": null,
   "id": "76f2b929",
   "metadata": {
    "ExecuteTime": {
     "start_time": "2023-06-21T17:28:13.744Z"
    }
   },
   "outputs": [],
   "source": [
    "def calculate_mean(num_sequence: Sequence) -> float:\n",
    "    \"\"\"calculates mean function\"\"\"\n",
    "\n",
    "    sum_of_values = 0\n",
    "    number_of_values = len(num_sequence)\n",
    "    \n",
    "    for i in num_sequence:\n",
    "        sum_of_values += i\n",
    "    \n",
    "    mean_of_data = sum_of_values/number_of_values\n",
    "    return mean_of_data"
   ]
  },
  {
   "cell_type": "code",
   "execution_count": null,
   "id": "1c279dc4",
   "metadata": {
    "ExecuteTime": {
     "start_time": "2023-06-21T17:28:13.753Z"
    }
   },
   "outputs": [],
   "source": [
    "calculate_mean(num_sequence=random_values)"
   ]
  },
  {
   "cell_type": "markdown",
   "id": "6a8676ca",
   "metadata": {},
   "source": [
    "#### Mean using numpy arrays"
   ]
  },
  {
   "cell_type": "code",
   "execution_count": null,
   "id": "32ab7b2b",
   "metadata": {
    "ExecuteTime": {
     "start_time": "2023-06-21T17:28:13.758Z"
    }
   },
   "outputs": [],
   "source": [
    "def calculate_mean_using_np_array(num_sequence: Sequence) -> float:\n",
    "    \"\"\"calculate mean using numpy module\"\"\"\n",
    "\n",
    "    num_sequence = np.array(num_sequence)\n",
    "    mean_value = np.mean(num_sequence)\n",
    "    return mean_value"
   ]
  },
  {
   "cell_type": "code",
   "execution_count": null,
   "id": "d6e65817",
   "metadata": {
    "ExecuteTime": {
     "start_time": "2023-06-21T17:28:13.761Z"
    }
   },
   "outputs": [],
   "source": [
    "calculate_mean_using_np_array(num_sequence=random_values)"
   ]
  },
  {
   "cell_type": "markdown",
   "id": "fbf2ffd8",
   "metadata": {},
   "source": [
    "#### Mean using statistics module"
   ]
  },
  {
   "cell_type": "code",
   "execution_count": null,
   "id": "73289bcf",
   "metadata": {
    "ExecuteTime": {
     "start_time": "2023-06-21T17:28:13.765Z"
    }
   },
   "outputs": [],
   "source": [
    "def calculate_mean_using_statistics(num_sequence: Sequence) -> float:\n",
    "    \"\"\"calculate mean using statistics module\"\"\"\n",
    "    \n",
    "    mean_value = statistics.mean(num_sequence)\n",
    "    return mean_value"
   ]
  },
  {
   "cell_type": "code",
   "execution_count": null,
   "id": "6a143907",
   "metadata": {
    "ExecuteTime": {
     "start_time": "2023-06-21T17:28:13.768Z"
    }
   },
   "outputs": [],
   "source": [
    "calculate_mean_using_statistics(num_sequence=random_values)"
   ]
  },
  {
   "cell_type": "markdown",
   "id": "7d35ad0e",
   "metadata": {},
   "source": [
    "### Median Calculation Algorithm and Code"
   ]
  },
  {
   "cell_type": "markdown",
   "id": "b2d7c7c6",
   "metadata": {},
   "source": [
    "Mathematically speaking, the median is the value located at the middle position of a set of data when arranged in ascending order. When there is an even number of observations, the median is determined by taking the average of the values at positions (n/2) and ((n+1)/2). Conversely, when there is an odd number of observations, the median is simply the value at position ((n+1)/2)."
   ]
  },
  {
   "cell_type": "markdown",
   "id": "1b530c50",
   "metadata": {},
   "source": [
    "#### Median using traditional functional program "
   ]
  },
  {
   "cell_type": "code",
   "execution_count": null,
   "id": "a7adbfb8",
   "metadata": {
    "ExecuteTime": {
     "start_time": "2023-06-21T17:28:13.771Z"
    }
   },
   "outputs": [],
   "source": [
    "def calculate_median(num_sequence: Sequence) -> float:\n",
    "    \"\"\"calculate median function\"\"\"\n",
    "\n",
    "    num_sequence = sorted(list(num_sequence))\n",
    "    \n",
    "    if len(num_sequence) % 2 == 0:\n",
    "        first_term = (len(num_sequence)//2) -1 \n",
    "        second_term = (len(num_sequence)//2 + 1) - 1\n",
    "        median = (num_sequence[first_term] + num_sequence[second_term])/2\n",
    "    else:\n",
    "        median_term = (len(num_sequence)//2)\n",
    "        median = num_sequence[median_term]\n",
    "    return median"
   ]
  },
  {
   "cell_type": "code",
   "execution_count": null,
   "id": "285f68e1",
   "metadata": {
    "ExecuteTime": {
     "start_time": "2023-06-21T17:28:13.775Z"
    }
   },
   "outputs": [],
   "source": [
    "calculate_median(num_sequence=random_values)"
   ]
  },
  {
   "cell_type": "markdown",
   "id": "1548c32a",
   "metadata": {},
   "source": [
    "#### Median using numpy arrays"
   ]
  },
  {
   "cell_type": "code",
   "execution_count": null,
   "id": "db1a5366",
   "metadata": {
    "ExecuteTime": {
     "start_time": "2023-06-21T17:28:13.779Z"
    }
   },
   "outputs": [],
   "source": [
    "def calculate_median_using_np_array(num_sequence: Sequence) -> float:\n",
    "    \"\"\"calculate median using numpy module\"\"\"\n",
    "    \n",
    "    num_sequence = np.array(num_sequence)\n",
    "    mean_value = np.median(num_sequence)\n",
    "    return mean_value"
   ]
  },
  {
   "cell_type": "code",
   "execution_count": null,
   "id": "0e3700ef",
   "metadata": {
    "ExecuteTime": {
     "start_time": "2023-06-21T17:28:13.781Z"
    }
   },
   "outputs": [],
   "source": [
    "calculate_median_using_np_array(random_values)"
   ]
  },
  {
   "cell_type": "markdown",
   "id": "e0734fbc",
   "metadata": {},
   "source": [
    "#### Median using statistics module"
   ]
  },
  {
   "cell_type": "code",
   "execution_count": null,
   "id": "4ddf7699",
   "metadata": {
    "ExecuteTime": {
     "start_time": "2023-06-21T17:28:13.784Z"
    }
   },
   "outputs": [],
   "source": [
    "def calculate_median_using_statistics(num_sequence: Sequence) -> float:\n",
    "    \"\"\"calculate median using statistics module\"\"\"\n",
    "    \n",
    "    median = statistics.median(num_sequence)\n",
    "    return median"
   ]
  },
  {
   "cell_type": "code",
   "execution_count": null,
   "id": "9aae19d6",
   "metadata": {
    "ExecuteTime": {
     "start_time": "2023-06-21T17:28:13.786Z"
    }
   },
   "outputs": [],
   "source": [
    "calculate_median_using_statistics(num_sequence=random_values)"
   ]
  },
  {
   "cell_type": "markdown",
   "id": "798584ae",
   "metadata": {},
   "source": [
    "### Mode Calculation Algorithm and Code"
   ]
  },
  {
   "cell_type": "markdown",
   "id": "e5d95c1d",
   "metadata": {},
   "source": [
    "Mathematically speaking, the mode is the value that appears most frequently in a given dataset. Occasionally, a dataset may not have a mode, or it may have two modes, which is referred to as bimodal data. However, it is not possible to have trimodal or quadmodal data. "
   ]
  },
  {
   "cell_type": "markdown",
   "id": "1b211015",
   "metadata": {},
   "source": [
    "#### Mode using traditional functional program"
   ]
  },
  {
   "cell_type": "code",
   "execution_count": null,
   "id": "ed587962",
   "metadata": {
    "ExecuteTime": {
     "start_time": "2023-06-21T17:28:13.790Z"
    }
   },
   "outputs": [],
   "source": [
    "def calculate_mode(num_sequence: Sequence) -> float:\n",
    "    \"\"\"calculate mode function\"\"\"\n",
    "\n",
    "    val_counts = {}\n",
    "    for val in num_sequence:\n",
    "        if not val in val_counts:\n",
    "            val_counts[val]=1\n",
    "        else:\n",
    "            val_counts[val]+=1\n",
    "        mode = [value for value, count in val_counts.items() if count==max(val_counts.values())][0]\n",
    "    return mode"
   ]
  },
  {
   "cell_type": "code",
   "execution_count": null,
   "id": "ec17a778",
   "metadata": {
    "ExecuteTime": {
     "start_time": "2023-06-21T17:28:13.792Z"
    }
   },
   "outputs": [],
   "source": [
    "calculate_mode(num_sequence=random_values)"
   ]
  },
  {
   "cell_type": "markdown",
   "id": "b92364d8",
   "metadata": {},
   "source": [
    "#### Mode using numpy arrays"
   ]
  },
  {
   "cell_type": "code",
   "execution_count": null,
   "id": "37d7b583",
   "metadata": {
    "ExecuteTime": {
     "start_time": "2023-06-21T17:28:13.794Z"
    }
   },
   "outputs": [],
   "source": [
    "def calculate_mode_using_np_array(num_sequence: Sequence) -> float:\n",
    "    \"\"\"calculate mode using numpy module\"\"\"\n",
    "    \n",
    "    num_sequence = np.array(num_sequence)\n",
    "    vals, counts = np.unique(num_sequence, return_counts=True)\n",
    "    mode = vals[np.argmax(counts)]\n",
    "    return mode"
   ]
  },
  {
   "cell_type": "code",
   "execution_count": null,
   "id": "46e4ca36",
   "metadata": {
    "ExecuteTime": {
     "start_time": "2023-06-21T17:28:13.796Z"
    }
   },
   "outputs": [],
   "source": [
    "calculate_mode_using_np_array(random_values)"
   ]
  },
  {
   "cell_type": "markdown",
   "id": "f2f25942",
   "metadata": {},
   "source": [
    "#### Mode using statistics module"
   ]
  },
  {
   "cell_type": "code",
   "execution_count": null,
   "id": "f02f27b3",
   "metadata": {
    "ExecuteTime": {
     "start_time": "2023-06-21T17:28:13.799Z"
    }
   },
   "outputs": [],
   "source": [
    "def calculate_mode_using_statistics(num_sequence: Sequence) -> float:\n",
    "    \"\"\"calculate mode using statistics module\"\"\"\n",
    "    \n",
    "    mode = statistics.mode(num_sequence)\n",
    "    return mode"
   ]
  },
  {
   "cell_type": "code",
   "execution_count": null,
   "id": "ee1a6a4b",
   "metadata": {
    "ExecuteTime": {
     "start_time": "2023-06-21T17:28:13.802Z"
    }
   },
   "outputs": [],
   "source": [
    "calculate_mode_using_statistics(random_values)"
   ]
  },
  {
   "cell_type": "markdown",
   "id": "4bd5d9f1",
   "metadata": {},
   "source": [
    "## Measure of Dispersion"
   ]
  },
  {
   "cell_type": "markdown",
   "id": "20d32fc0",
   "metadata": {},
   "source": [
    "### Variance Calculation Algorithm and Code"
   ]
  },
  {
   "cell_type": "markdown",
   "id": "432970b1",
   "metadata": {},
   "source": [
    "Variance, expressed mathematically, indicates the extent to which data points are spread out from the central tendency. Another way to put it is that variance measures the level of dispersion or scattering among the data points."
   ]
  },
  {
   "cell_type": "markdown",
   "id": "d4092295",
   "metadata": {},
   "source": [
    "#### Variance using traditional functional program"
   ]
  },
  {
   "cell_type": "code",
   "execution_count": null,
   "id": "d2ff2ac1",
   "metadata": {
    "ExecuteTime": {
     "start_time": "2023-06-21T17:28:13.805Z"
    }
   },
   "outputs": [],
   "source": [
    "def calculate_variance(num_sequence: Sequence) -> float:\n",
    "    \"\"\"calculate variance function\"\"\"\n",
    "\n",
    "    mean = calculate_mean(num_sequence)\n",
    "    variance = sum([(val-mean)**2 for val in num_sequence])/len(num_sequence)\n",
    "    return variance"
   ]
  },
  {
   "cell_type": "code",
   "execution_count": null,
   "id": "89fbf5cd",
   "metadata": {
    "ExecuteTime": {
     "start_time": "2023-06-21T17:28:13.808Z"
    }
   },
   "outputs": [],
   "source": [
    "calculate_variance(random_values)"
   ]
  },
  {
   "cell_type": "markdown",
   "id": "8a026e02",
   "metadata": {},
   "source": [
    "#### Variance using numpy arrays"
   ]
  },
  {
   "cell_type": "code",
   "execution_count": null,
   "id": "80d1a0f1",
   "metadata": {
    "ExecuteTime": {
     "start_time": "2023-06-21T17:28:13.811Z"
    }
   },
   "outputs": [],
   "source": [
    "def calculate_variance_using_np_array(num_sequence: Sequence) -> float:\n",
    "    \"\"\"calculate variance using numpy module\"\"\"\n",
    "    \n",
    "    num_sequence = np.array(num_sequence)\n",
    "    variance = np.var(num_sequence)\n",
    "    return variance"
   ]
  },
  {
   "cell_type": "code",
   "execution_count": null,
   "id": "3fc7b084",
   "metadata": {
    "ExecuteTime": {
     "start_time": "2023-06-21T17:28:13.815Z"
    }
   },
   "outputs": [],
   "source": [
    "calculate_variance_using_np_array(random_values)"
   ]
  },
  {
   "cell_type": "markdown",
   "id": "5f9505a3",
   "metadata": {},
   "source": [
    "#### Variance using statistics module"
   ]
  },
  {
   "cell_type": "code",
   "execution_count": null,
   "id": "89cd1703",
   "metadata": {
    "ExecuteTime": {
     "start_time": "2023-06-21T17:28:13.818Z"
    }
   },
   "outputs": [],
   "source": [
    "def calculate_variance_using_statistics(num_sequence: Sequence) -> float:\n",
    "    \"\"\"calculate variance using statistics module\"\"\"\n",
    "    \n",
    "    variance = statistics.variance(num_sequence)\n",
    "    return variance"
   ]
  },
  {
   "cell_type": "code",
   "execution_count": null,
   "id": "5bdef063",
   "metadata": {
    "ExecuteTime": {
     "start_time": "2023-06-21T17:28:13.821Z"
    }
   },
   "outputs": [],
   "source": [
    "calculate_variance_using_statistics(random_values)"
   ]
  },
  {
   "cell_type": "markdown",
   "id": "919216ae",
   "metadata": {},
   "source": [
    "### Standard Deviation Calculation Algorithm and Code"
   ]
  },
  {
   "cell_type": "markdown",
   "id": "84a8a101",
   "metadata": {},
   "source": [
    "The standard deviation, in mathematical language, can be described as the square root of variance. It serves as an alternative method for quantifying the spread or dispersion of data points from the mean or central tendency."
   ]
  },
  {
   "cell_type": "markdown",
   "id": "5fcd815f",
   "metadata": {},
   "source": [
    "#### Standard Deviation using tradition functional program"
   ]
  },
  {
   "cell_type": "code",
   "execution_count": null,
   "id": "40129d6b",
   "metadata": {
    "ExecuteTime": {
     "start_time": "2023-06-21T17:28:13.826Z"
    }
   },
   "outputs": [],
   "source": [
    "def calculate_std(num_sequence: Sequence) -> float:\n",
    "    \"\"\"calculate standard deviation\"\"\"\n",
    "\n",
    "    standard_deviation = np.sqrt(calculate_variance(num_sequence=num_sequence))\n",
    "    return standard_deviation"
   ]
  },
  {
   "cell_type": "code",
   "execution_count": null,
   "id": "a1544604",
   "metadata": {
    "ExecuteTime": {
     "start_time": "2023-06-21T17:28:13.830Z"
    }
   },
   "outputs": [],
   "source": [
    "calculate_std(random_values)"
   ]
  },
  {
   "cell_type": "markdown",
   "id": "bdb5ba46",
   "metadata": {},
   "source": [
    "#### Standard Deviation using numpy module"
   ]
  },
  {
   "cell_type": "code",
   "execution_count": null,
   "id": "5f887953",
   "metadata": {
    "ExecuteTime": {
     "start_time": "2023-06-21T17:28:13.834Z"
    }
   },
   "outputs": [],
   "source": [
    "def calculate_std_using_np_array(num_sequence: Sequence) -> float:\n",
    "    \"\"\"calculate standard deviation using numpy module\"\"\"\n",
    "    \n",
    "    num_sequence = np.array(num_sequence)\n",
    "    standard_deviation = np.std(np.array(num_sequence))\n",
    "    return standard_deviation"
   ]
  },
  {
   "cell_type": "code",
   "execution_count": null,
   "id": "aafe1bb6",
   "metadata": {
    "ExecuteTime": {
     "start_time": "2023-06-21T17:28:13.836Z"
    }
   },
   "outputs": [],
   "source": [
    "calculate_std_using_np_array(random_values)"
   ]
  },
  {
   "cell_type": "markdown",
   "id": "1b91c3f7",
   "metadata": {},
   "source": [
    "#### Standard Deviation using statistics module"
   ]
  },
  {
   "cell_type": "code",
   "execution_count": null,
   "id": "88db934c",
   "metadata": {
    "ExecuteTime": {
     "start_time": "2023-06-21T17:28:13.840Z"
    }
   },
   "outputs": [],
   "source": [
    "def calculate_std_using_statistics(num_sequence: Sequence) -> float:\n",
    "    \"\"\"calculate standard deviation using statistics module\"\"\"\n",
    "    \n",
    "    standard_deviation = statistics.stdev(num_sequence)\n",
    "    return standard_deviation"
   ]
  },
  {
   "cell_type": "code",
   "execution_count": null,
   "id": "9776c130",
   "metadata": {
    "ExecuteTime": {
     "start_time": "2023-06-21T17:28:13.843Z"
    }
   },
   "outputs": [],
   "source": [
    "calculate_std_using_statistics(random_values)"
   ]
  },
  {
   "cell_type": "code",
   "execution_count": null,
   "id": "06a0a2e4",
   "metadata": {},
   "outputs": [],
   "source": []
  }
 ],
 "metadata": {
  "kernelspec": {
   "display_name": "ds-labs",
   "language": "python",
   "name": "ds-labs"
  },
  "language_info": {
   "codemirror_mode": {
    "name": "ipython",
    "version": 3
   },
   "file_extension": ".py",
   "mimetype": "text/x-python",
   "name": "python",
   "nbconvert_exporter": "python",
   "pygments_lexer": "ipython3",
   "version": "3.7.12"
  },
  "toc": {
   "base_numbering": 1,
   "nav_menu": {},
   "number_sections": true,
   "sideBar": true,
   "skip_h1_title": false,
   "title_cell": "Table of Contents",
   "title_sidebar": "Contents",
   "toc_cell": false,
   "toc_position": {
    "height": "calc(100% - 180px)",
    "left": "10px",
    "top": "150px",
    "width": "303.837px"
   },
   "toc_section_display": true,
   "toc_window_display": false
  }
 },
 "nbformat": 4,
 "nbformat_minor": 5
}
