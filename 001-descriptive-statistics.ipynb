{
 "cells": [
  {
   "cell_type": "markdown",
   "id": "41ce149a",
   "metadata": {},
   "source": [
    "## Introduction"
   ]
  },
  {
   "cell_type": "markdown",
   "id": "799deba9",
   "metadata": {},
   "source": [
    "Contained within this notebook is work specifically pertaining to statistics, with a primary focus on a specific branch called descriptive statistics.\n",
    "\n",
    "Descriptive statistics involves the characterization and depiction of data, encompassing measures that assess central tendency, dispersion, and the shape of the data.\n",
    "\n",
    "<b>Measure of Central Tendency:-</b> A Measure of Central Tendency refers to a singular value or number that represents the center of a dataset, with all data points exhibiting an equal distance from this central point. There are three common metrics used to measure central tendency: the Mean, Median, and Mode.\n",
    "\n",
    "<b>Measure of Dispersion:-</b> A Measure of Dispersion denotes a value that illustrates the extent to which data is spread out from the central tendency or the variability within the data. It provides insights into the spread of the data. Two commonly used metrics to measure dispersion are the Standard Deviation and Variance."
   ]
  },
  {
   "cell_type": "markdown",
   "id": "63fafa0c",
   "metadata": {},
   "source": [
    "## Required Dependencies"
   ]
  },
  {
   "cell_type": "code",
   "execution_count": 1,
   "id": "6822077c",
   "metadata": {
    "ExecuteTime": {
     "end_time": "2023-06-19T19:07:09.832578Z",
     "start_time": "2023-06-19T19:07:09.807968Z"
    }
   },
   "outputs": [],
   "source": [
    "import statistics\n",
    "from typing import Sequence"
   ]
  },
  {
   "cell_type": "code",
   "execution_count": 2,
   "id": "f783c0f6",
   "metadata": {
    "ExecuteTime": {
     "end_time": "2023-06-19T19:07:09.887905Z",
     "start_time": "2023-06-19T19:07:09.836207Z"
    }
   },
   "outputs": [],
   "source": [
    "from warnings import filterwarnings\n",
    "filterwarnings(\"ignore\")"
   ]
  },
  {
   "cell_type": "code",
   "execution_count": 3,
   "id": "e1674ea3",
   "metadata": {
    "ExecuteTime": {
     "end_time": "2023-06-19T19:07:10.683937Z",
     "start_time": "2023-06-19T19:07:09.890097Z"
    }
   },
   "outputs": [],
   "source": [
    "import numpy as np\n",
    "import pandas as pd"
   ]
  },
  {
   "cell_type": "code",
   "execution_count": 4,
   "id": "23d9b563",
   "metadata": {
    "ExecuteTime": {
     "end_time": "2023-06-19T19:07:11.861762Z",
     "start_time": "2023-06-19T19:07:10.688729Z"
    }
   },
   "outputs": [],
   "source": [
    "from matplotlib import pyplot as plt\n",
    "import seaborn as sns"
   ]
  },
  {
   "cell_type": "markdown",
   "id": "8baf67b8",
   "metadata": {},
   "source": [
    "## Data"
   ]
  },
  {
   "cell_type": "markdown",
   "id": "9663b456",
   "metadata": {},
   "source": [
    "Data can be described as individual units of information that are stored in both structured and unstructured formats. When data is organized in a CSV file or an Excel spreadsheet, it is categorized as structured data. On the other hand, when data lacks a specific organization, such as in the form of text, paragraphs, or tables, it falls under the category of unstructured data.\n",
    "\n",
    "In the world of data, two main types can be distinguished: qualitative data and quantitative data."
   ]
  },
  {
   "cell_type": "markdown",
   "id": "bd7e45aa",
   "metadata": {},
   "source": [
    "### Qualitative Data"
   ]
  },
  {
   "cell_type": "markdown",
   "id": "45bc05ad",
   "metadata": {},
   "source": [
    "Qualitative data refers to categorical information found within a dataset, which can be further categorized into two types: ordinal data and nominal data. Ordinal data is characterized by a specific order among its categories, such as the sizes of T-shirts (e.g., Small, Medium, Large) where there is a clear hierarchy like \"Small < Medium < Large\" or \"Large > Medium > Small.\" On the other hand, nominal data represents categories without any inherent order, like countries (e.g., U.S.A, Canada, England, Scotland), where no meaningful order can be established."
   ]
  },
  {
   "cell_type": "markdown",
   "id": "98707d76",
   "metadata": {},
   "source": [
    "### Quantative Data"
   ]
  },
  {
   "cell_type": "markdown",
   "id": "d5843403",
   "metadata": {},
   "source": [
    "Quantitative data pertains to numerical information present in a dataset, which can be classified into two categories: integer points and floating points. Floating points consist of values that include decimal places, such as 1.2, 5.5, and 3.2. An example of this could be the amount paid in dollars and cents. On the other hand, integer points represent whole numbers, like the number of apples purchased by different customers, such as 3, 3, 5, and 1. In this case, the store does not sell fractional amounts of apples like 4.5 or 3.2."
   ]
  },
  {
   "cell_type": "markdown",
   "id": "3f921afd",
   "metadata": {},
   "source": [
    "## Measure of Central Tendency"
   ]
  },
  {
   "cell_type": "markdown",
   "id": "6b27cd90",
   "metadata": {},
   "source": [
    "### Mean Calculation Algorithm and Code"
   ]
  },
  {
   "cell_type": "markdown",
   "id": "9b72be91",
   "metadata": {},
   "source": [
    "In mathematical terms, the mean is defined as the sum of all observations divided by the total number of observations."
   ]
  },
  {
   "cell_type": "markdown",
   "id": "063e5ddc",
   "metadata": {},
   "source": [
    "#### Mean using traditional functional program"
   ]
  },
  {
   "cell_type": "code",
   "execution_count": 5,
   "id": "d0ffee85",
   "metadata": {
    "ExecuteTime": {
     "end_time": "2023-06-19T19:07:11.878708Z",
     "start_time": "2023-06-19T19:07:11.864283Z"
    }
   },
   "outputs": [
    {
     "data": {
      "text/plain": [
       "array([6, 8, 7, 8, 1, 6, 4, 4, 2, 4])"
      ]
     },
     "execution_count": 5,
     "metadata": {},
     "output_type": "execute_result"
    }
   ],
   "source": [
    "np.random.seed(52)\n",
    "random_values = np.random.randint(low=1, high=10, size=10)\n",
    "random_values"
   ]
  },
  {
   "cell_type": "code",
   "execution_count": 6,
   "id": "732e2bc0",
   "metadata": {
    "ExecuteTime": {
     "end_time": "2023-06-19T19:07:11.918915Z",
     "start_time": "2023-06-19T19:07:11.883063Z"
    }
   },
   "outputs": [],
   "source": [
    "def calculate_mean(num_sequence: Sequence) -> float:\n",
    "    \n",
    "    sum_of_values = 0\n",
    "    number_of_values = len(num_sequence)\n",
    "    \n",
    "    for i in num_sequence:\n",
    "        sum_of_values += i\n",
    "    \n",
    "    mean_of_data = sum_of_values/number_of_values\n",
    "    return mean_of_data"
   ]
  },
  {
   "cell_type": "code",
   "execution_count": 7,
   "id": "96d4babb",
   "metadata": {
    "ExecuteTime": {
     "end_time": "2023-06-19T19:07:11.931062Z",
     "start_time": "2023-06-19T19:07:11.922149Z"
    }
   },
   "outputs": [
    {
     "data": {
      "text/plain": [
       "5.0"
      ]
     },
     "execution_count": 7,
     "metadata": {},
     "output_type": "execute_result"
    }
   ],
   "source": [
    "calculate_mean(num_sequence=random_values)"
   ]
  },
  {
   "cell_type": "markdown",
   "id": "1da74bae",
   "metadata": {},
   "source": [
    "#### Mean using numpy arrays"
   ]
  },
  {
   "cell_type": "code",
   "execution_count": 8,
   "id": "b726d0cb",
   "metadata": {
    "ExecuteTime": {
     "end_time": "2023-06-19T19:07:12.133958Z",
     "start_time": "2023-06-19T19:07:11.934742Z"
    }
   },
   "outputs": [],
   "source": [
    "def calculate_mean_using_np_array(num_sequence: Sequence) -> float:\n",
    "    \n",
    "    num_sequence = np.array(num_sequence)\n",
    "    mean_value = np.mean(num_sequence)\n",
    "    return mean_value"
   ]
  },
  {
   "cell_type": "code",
   "execution_count": 9,
   "id": "b97aa9e2",
   "metadata": {
    "ExecuteTime": {
     "end_time": "2023-06-19T19:07:12.459226Z",
     "start_time": "2023-06-19T19:07:12.137614Z"
    }
   },
   "outputs": [
    {
     "data": {
      "text/plain": [
       "5.0"
      ]
     },
     "execution_count": 9,
     "metadata": {},
     "output_type": "execute_result"
    }
   ],
   "source": [
    "calculate_mean_using_np_array(num_sequence=random_values)"
   ]
  },
  {
   "cell_type": "markdown",
   "id": "95a8dac8",
   "metadata": {},
   "source": [
    "#### Mean using statistics module"
   ]
  },
  {
   "cell_type": "code",
   "execution_count": 10,
   "id": "d80c38ab",
   "metadata": {
    "ExecuteTime": {
     "end_time": "2023-06-19T19:07:12.479614Z",
     "start_time": "2023-06-19T19:07:12.464984Z"
    }
   },
   "outputs": [],
   "source": [
    "def calculate_mean_using_statistics(num_sequence: Sequence) -> float:\n",
    "    \n",
    "    mean_value = statistics.mean(num_sequence)\n",
    "    return mean_value"
   ]
  },
  {
   "cell_type": "code",
   "execution_count": 11,
   "id": "75415b86",
   "metadata": {
    "ExecuteTime": {
     "end_time": "2023-06-19T19:07:12.555728Z",
     "start_time": "2023-06-19T19:07:12.482434Z"
    }
   },
   "outputs": [
    {
     "data": {
      "text/plain": [
       "5"
      ]
     },
     "execution_count": 11,
     "metadata": {},
     "output_type": "execute_result"
    }
   ],
   "source": [
    "calculate_mean_using_statistics(num_sequence=random_values)"
   ]
  },
  {
   "cell_type": "markdown",
   "id": "db5d56f5",
   "metadata": {},
   "source": [
    "### Median"
   ]
  },
  {
   "cell_type": "code",
   "execution_count": null,
   "id": "32e15221",
   "metadata": {},
   "outputs": [],
   "source": []
  },
  {
   "cell_type": "markdown",
   "id": "6efc5261",
   "metadata": {},
   "source": [
    "### Mode"
   ]
  },
  {
   "cell_type": "code",
   "execution_count": null,
   "id": "95b8386b",
   "metadata": {},
   "outputs": [],
   "source": []
  }
 ],
 "metadata": {
  "kernelspec": {
   "display_name": "ds-labs",
   "language": "python",
   "name": "ds-labs"
  },
  "language_info": {
   "codemirror_mode": {
    "name": "ipython",
    "version": 3
   },
   "file_extension": ".py",
   "mimetype": "text/x-python",
   "name": "python",
   "nbconvert_exporter": "python",
   "pygments_lexer": "ipython3",
   "version": "3.7.12"
  },
  "toc": {
   "base_numbering": 1,
   "nav_menu": {},
   "number_sections": true,
   "sideBar": true,
   "skip_h1_title": false,
   "title_cell": "Table of Contents",
   "title_sidebar": "Contents",
   "toc_cell": false,
   "toc_position": {
    "height": "calc(100% - 180px)",
    "left": "10px",
    "top": "150px",
    "width": "303.837px"
   },
   "toc_section_display": true,
   "toc_window_display": false
  }
 },
 "nbformat": 4,
 "nbformat_minor": 5
}
